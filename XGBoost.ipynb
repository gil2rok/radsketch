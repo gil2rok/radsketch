{
  "nbformat": 4,
  "nbformat_minor": 0,
  "metadata": {
    "colab": {
      "name": "XGBoost",
      "version": "0.3.2",
      "provenance": [],
      "include_colab_link": true
    },
    "kernelspec": {
      "name": "python3",
      "display_name": "Python 3"
    }
  },
  "cells": [
    {
      "cell_type": "markdown",
      "metadata": {
        "id": "view-in-github",
        "colab_type": "text"
      },
      "source": [
        "<a href=\"https://colab.research.google.com/github/gil2rok/radsketch/blob/master/XGBoost.ipynb\" target=\"_parent\"><img src=\"https://colab.research.google.com/assets/colab-badge.svg\" alt=\"Open In Colab\"/></a>"
      ]
    },
    {
      "cell_type": "code",
      "metadata": {
        "id": "P_CtzTPb-k09",
        "colab_type": "code",
        "colab": {}
      },
      "source": [
        "import xgboost as xgb #gradient boosted decision trees library\n",
        "import numpy as np"
      ],
      "execution_count": 0,
      "outputs": []
    },
    {
      "cell_type": "code",
      "metadata": {
        "id": "a8ZMX5DwH2wT",
        "colab_type": "code",
        "colab": {}
      },
      "source": [
        "from sklearn import datasets #import common datasets from scikit learn\n",
        "iris = datasets.load_iris() #loading the iris flowers dataset. This is a classification problem.\n",
        "X = iris.data #setting x to the flower data. The four columns correspond to the following: Sepal Length, Sepal Width, Petal Length and Petal Width.\n",
        "Y = iris.target #setting y to the flower label. The single column has a number that corresponds to the type of iris: Setosa, Versicolour, and Virginica"
      ],
      "execution_count": 0,
      "outputs": []
    },
    {
      "cell_type": "code",
      "metadata": {
        "id": "5xwqi6uIKTmS",
        "colab_type": "code",
        "colab": {
          "base_uri": "https://localhost:8080/",
          "height": 183
        },
        "outputId": "980d3e9a-b6e1-44a4-8526-70a7737faca0"
      },
      "source": [
        "X[:10] #printing out first 10 entries of x. Note that each entry is an array with 4 values."
      ],
      "execution_count": 6,
      "outputs": [
        {
          "output_type": "execute_result",
          "data": {
            "text/plain": [
              "array([[5.1, 3.5, 1.4, 0.2],\n",
              "       [4.9, 3. , 1.4, 0.2],\n",
              "       [4.7, 3.2, 1.3, 0.2],\n",
              "       [4.6, 3.1, 1.5, 0.2],\n",
              "       [5. , 3.6, 1.4, 0.2],\n",
              "       [5.4, 3.9, 1.7, 0.4],\n",
              "       [4.6, 3.4, 1.4, 0.3],\n",
              "       [5. , 3.4, 1.5, 0.2],\n",
              "       [4.4, 2.9, 1.4, 0.2],\n",
              "       [4.9, 3.1, 1.5, 0.1]])"
            ]
          },
          "metadata": {
            "tags": []
          },
          "execution_count": 6
        }
      ]
    },
    {
      "cell_type": "code",
      "metadata": {
        "id": "mnCxxyKlKU5D",
        "colab_type": "code",
        "colab": {
          "base_uri": "https://localhost:8080/",
          "height": 33
        },
        "outputId": "896e6f25-30c7-4285-823f-dff5e87682b7"
      },
      "source": [
        "Y[:10] #printing out first 10 entries of y. Note that each entry is a single value."
      ],
      "execution_count": 7,
      "outputs": [
        {
          "output_type": "execute_result",
          "data": {
            "text/plain": [
              "array([0, 0, 0, 0, 0, 0, 0, 0, 0, 0])"
            ]
          },
          "metadata": {
            "tags": []
          },
          "execution_count": 7
        }
      ]
    },
    {
      "cell_type": "code",
      "metadata": {
        "id": "D7I1tuqHMWAN",
        "colab_type": "code",
        "colab": {}
      },
      "source": [
        "from sklearn.model_selection import train_test_split #importing the train_test_split function\n",
        "X_train, X_test, Y_train, Y_test = train_test_split(X, Y, test_size = 0.2) #split our data and target into 80% training data and 20% testing data"
      ],
      "execution_count": 0,
      "outputs": []
    },
    {
      "cell_type": "code",
      "metadata": {
        "id": "plkIJcCSLhZk",
        "colab_type": "code",
        "colab": {}
      },
      "source": [
        "#For the XGBoost model to work, we need our data to be in a data structure to be in a DMatrix.\n",
        "D_train = xgb.DMatrix(X_train, label = Y_train)\n",
        "D_test = xgb.DMatrix(X_test, label = Y_test)"
      ],
      "execution_count": 0,
      "outputs": []
    },
    {
      "cell_type": "code",
      "metadata": {
        "id": "xJpLI_cgQD6j",
        "colab_type": "code",
        "colab": {}
      },
      "source": [
        "param = {\n",
        "    'eta': 0.3, #when we add the predictions of new trees to the ensemble, we multiply them by this value to reduce complexity and prevent overfitting\n",
        "    'max_depth': 3, #max depth of the decision trees\n",
        "    'objective': 'multi:softprob', #selecting the loss function\n",
        "    'num_class': 3 #num of classes in the dataset   \n",
        "}\n",
        "\n",
        "steps = 20 #num of training iterations"
      ],
      "execution_count": 0,
      "outputs": []
    },
    {
      "cell_type": "code",
      "metadata": {
        "id": "Xp3BG-vfRBtI",
        "colab_type": "code",
        "colab": {}
      },
      "source": [
        "model = xgb.train(param, D_train, steps) #training our model"
      ],
      "execution_count": 0,
      "outputs": []
    },
    {
      "cell_type": "code",
      "metadata": {
        "id": "UUnHCdEhRMH-",
        "colab_type": "code",
        "colab": {
          "base_uri": "https://localhost:8080/",
          "height": 67
        },
        "outputId": "8cc2ee47-1c4f-4a0e-be51-d3db4bfeeabb"
      },
      "source": [
        "from sklearn.metrics import precision_score, recall_score, accuracy_score #importing metrics to determine how well our model is working\n",
        "preds = model.predict(D_test) #predicting from our testing data\n",
        "best_preds = np.asarray([np.argmax(line) for line in preds])\n",
        "\n",
        "print(\"Precision = {}\".format(precision_score(Y_test, best_preds, average = 'macro')))\n",
        "print(\"Accuracy = {}\".format(accuracy_score(Y_test, best_preds)))\n",
        "print(\"Recall = {}\".format(recall_score(Y_test, best_preds, average = 'macro')))"
      ],
      "execution_count": 14,
      "outputs": [
        {
          "output_type": "stream",
          "text": [
            "Precision = 0.9444444444444445\n",
            "Accuracy = 0.9333333333333333\n",
            "Recall = 0.9393939393939394\n"
          ],
          "name": "stdout"
        }
      ]
    },
    {
      "cell_type": "code",
      "metadata": {
        "id": "y4aEh0fsKnRi",
        "colab_type": "code",
        "colab": {}
      },
      "source": [
        ""
      ],
      "execution_count": 0,
      "outputs": []
    }
  ]
}