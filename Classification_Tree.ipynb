{
  "nbformat": 4,
  "nbformat_minor": 0,
  "metadata": {
    "colab": {
      "name": "Classification_Tree.ipynb",
      "version": "0.3.2",
      "provenance": [],
      "include_colab_link": true
    },
    "kernelspec": {
      "name": "python3",
      "display_name": "Python 3"
    }
  },
  "cells": [
    {
      "cell_type": "markdown",
      "metadata": {
        "id": "view-in-github",
        "colab_type": "text"
      },
      "source": [
        "<a href=\"https://colab.research.google.com/github/gil2rok/Implementing_ML_Algorithms/blob/master/Classification_Tree.ipynb\" target=\"_parent\"><img src=\"https://colab.research.google.com/assets/colab-badge.svg\" alt=\"Open In Colab\"/></a>"
      ]
    },
    {
      "cell_type": "code",
      "metadata": {
        "id": "NvdnJgi1R3Af",
        "colab_type": "code",
        "colab": {}
      },
      "source": [
        "from sklearn.datasets import load_breast_cancer\n",
        "from sklearn import tree\n",
        "\n",
        "breast_cancer_data = load_breast_cancer() #Load our dataset\n",
        "classification_tree = tree.DecisionTreeClassifier() #Initialize the classification tree object\n",
        "classification_tree = classification_tree.fit(breast_cancer_data.data, breast_cancer_data.target) #Fit our model to the data"
      ],
      "execution_count": 0,
      "outputs": []
    },
    {
      "cell_type": "code",
      "metadata": {
        "id": "idsVdr-mWePy",
        "colab_type": "code",
        "colab": {
          "base_uri": "https://localhost:8080/",
          "height": 33
        },
        "outputId": "5816be9e-f083-4283-b25b-a473764af0e8"
      },
      "source": [
        "#Visualizing our Tree\n",
        "import graphviz\n",
        "dot_data = tree.export_graphviz(classification_tree, #The tree to be 'graphed'\n",
        "                               out_file = None,\n",
        "                               feature_names=breast_cancer_data.feature_names, #Name of each feature\n",
        "                               class_names=breast_cancer_data.target_names, #Name of each class\n",
        "                               filled=True #Paints nodes to indicate majority class for classification\n",
        "                               special_characters=True) #When set to False, ignore special characters for PostScript compatibility. Not really relevant here.\n",
        "graph = graphviz.Source(dot_data)\n",
        "graph.render(\"breast cancer\")"
      ],
      "execution_count": 11,
      "outputs": [
        {
          "output_type": "execute_result",
          "data": {
            "text/plain": [
              "'breast cancer.pdf'"
            ]
          },
          "metadata": {
            "tags": []
          },
          "execution_count": 11
        }
      ]
    }
  ]
}